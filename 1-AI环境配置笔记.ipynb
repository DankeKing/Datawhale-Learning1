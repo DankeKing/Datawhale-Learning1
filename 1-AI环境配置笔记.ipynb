{
 "cells": [
  {
   "cell_type": "markdown",
   "id": "6f6a9e8d-e9fd-4f61-be40-79c76a5c6ddf",
   "metadata": {},
   "source": [
    "# AI环境配置【miniconda】  \n",
    "## step1：  \n",
    "修改POWERSHELL执行策略，**管理员:Windows Powershell**中键入**Set-ExecutionPolicy -Scope CurrentUser RemoteSigned**\n",
    "## step2：  \n",
    "初始化conda，anaconda powershell prompt键入**conda init**\n",
    "## step3：  \n",
    "更换conda镜像源，进入[清华大学开源软件镜像站](https://help.mirrors.cernet.edu.cn/anaconda/)，找到Anaconda软件仓库，复制.condarc快速配置指令段(如下所示)；在anaconda powershell prompt中键入指令**notepad .condarc**，即可使用记事本打开.condarc文件，将复制好的指令段粘贴至.condarc内，保存关闭.condarc文件；最后键入**conda clean -i**清楚源缓存，启用镜像源"
   ]
  },
  {
   "cell_type": "code",
   "execution_count": null,
   "id": "a3150b1d-aca5-47f9-a5a1-12dd33a99720",
   "metadata": {},
   "outputs": [],
   "source": [
    "channels:\n",
    "  - defaults\n",
    "show_channel_urls: true\n",
    "default_channels:\n",
    "  - https://mirrors.tuna.tsinghua.edu.cn/anaconda/pkgs/main\n",
    "  - https://mirrors.tuna.tsinghua.edu.cn/anaconda/pkgs/r\n",
    "  - https://mirrors.tuna.tsinghua.edu.cn/anaconda/pkgs/msys2\n",
    "custom_channels:\n",
    "  conda-forge: https://mirrors.tuna.tsinghua.edu.cn/anaconda/cloud\n",
    "  pytorch: https://mirrors.tuna.tsinghua.edu.cn/anaconda/cloud"
   ]
  },
  {
   "cell_type": "markdown",
   "id": "8074e443-4cdb-458a-8aba-c238a882d2f7",
   "metadata": {},
   "source": [
    "## step4：创建激活conda环境\n",
    "在anaconda powershell prompt中键入指令**conda create -n Datawhale python=3.9**，即可创建名为Datawhale的python3.9编译环境，键入\"y\"下载新环境的基础库包；键入**conda activate Datawhale**，即可激活Datawhale环境，注意激活之前的环境均为base，激活指令后由base切换Datawhale\n",
    "## step5：调用所建环境\n",
    "在新建的Datawhale环境下，键入**cd 代码所在路径**，即可将路径由C盘系统路径切换至要调用Datawhale环境目标所在的路径；在该路径下键入**jupyter-notebook**，即可自动跳转至浏览器，可查看、编辑、运行该路径下的程序文件，也可新建各类文件\n",
    "## step6：CUDA安装\n",
    "在**管理员:Windows Powershell**中键入**nvidia-smi**，即可查看该设备的显卡型号、驱动型号以及对应的最高CUDA版本级别；进入[Pytorch官网](https://pytorch.org/)选择最接近所查询到的CUDA版本级别，复制CUDA安装指令代码(如下所示)；将复制的指令粘贴至anaconda powershell prompt(目标路径下)，回车即可完成CUDA安装"
   ]
  },
  {
   "cell_type": "code",
   "execution_count": null,
   "id": "59dc2cd1-e3c8-44c4-9f3b-1c660743e91a",
   "metadata": {},
   "outputs": [],
   "source": [
    "conda install pytorch torchvision torchaudio pytorch-cuda=11.7 -c pytorch -c nvidia"
   ]
  },
  {
   "cell_type": "markdown",
   "id": "78904830-1ee3-4700-9a06-ee4342b0387b",
   "metadata": {},
   "source": [
    "## step7：检验CUDA是否能成功调用GUP\n",
    "在目标路径下键入如下指令，若返回True则表示CUDA安装无误，可成功调用GPU"
   ]
  },
  {
   "cell_type": "code",
   "execution_count": null,
   "id": "0ba86450-6aea-4c36-becb-abbe1584e42c",
   "metadata": {},
   "outputs": [],
   "source": [
    "import torch\n",
    "torch.cuda.is_available()"
   ]
  },
  {
   "cell_type": "markdown",
   "id": "f9e28dca-dab5-4182-a858-c06b342b84ba",
   "metadata": {},
   "source": [
    "# 将本地项目上传至Github  \n",
    "## 下载安装Git\n",
    "[Git下载地址](https://git-scm.com/download)，一路**next**安装即可  \n",
    "## Git初始化\n",
    "打开**Git bash**，设置个人Github用户名和邮箱，并查看，代码指令如下"
   ]
  },
  {
   "cell_type": "code",
   "execution_count": null,
   "id": "b4f6104b-3dc1-4189-bb8e-298594466dd5",
   "metadata": {},
   "outputs": [],
   "source": [
    "git config --global user.name Github上注册的个人用户名"
   ]
  },
  {
   "cell_type": "code",
   "execution_count": null,
   "id": "09333a29-ba4c-41db-8b76-61a6f3fd70ad",
   "metadata": {},
   "outputs": [],
   "source": [
    "git config --global user.email Github上注册绑定的个人邮箱"
   ]
  },
  {
   "cell_type": "code",
   "execution_count": null,
   "id": "bde74864-e629-4fe7-bb37-bb2f73de4ac5",
   "metadata": {},
   "outputs": [],
   "source": [
    "git config user.name  # 查看用户名"
   ]
  },
  {
   "cell_type": "code",
   "execution_count": null,
   "id": "5346158e-fc5d-4c94-9c95-8816dd9bc815",
   "metadata": {},
   "outputs": [],
   "source": [
    "git config user.email # 查看邮箱"
   ]
  },
  {
   "cell_type": "markdown",
   "id": "c0cd933e-575d-4476-9b03-a58c783df75f",
   "metadata": {},
   "source": [
    "## 生成链接本地和Github的SSH公钥   \n",
    "在Git bash键入如下代码指令后，连续四个回车(生成默认的存储位置、默认密码为空、确认密码)"
   ]
  },
  {
   "cell_type": "code",
   "execution_count": null,
   "id": "ccb35fee-79e7-44b8-a051-bfbda2001c5b",
   "metadata": {},
   "outputs": [],
   "source": [
    "ssh-keygen -t rsa -C Github上注册的个人邮箱"
   ]
  },
  {
   "cell_type": "markdown",
   "id": "ece75484-ac53-4462-93bc-afe308dbfe16",
   "metadata": {},
   "source": [
    "## Github配置SSH公钥  \n",
    "在**C/User/用户名/.ssh**文件路径下使用记事本打开**id_rsa.pub**文件，复制全部内容(公钥)；在Github的setting中，选择SSG and GPG Keys，选择New SSH Key，将复制内容粘贴至Key中，点击Add SSH key即完成公钥配置"
   ]
  },
  {
   "cell_type": "markdown",
   "id": "d3d56b0f-dd92-4d51-abce-b81daa7843a4",
   "metadata": {},
   "source": [
    "## 上传本地文件至Github仓库(Repository)  \n",
    "右键本地文件夹，选择**Open Git Bash Here**，在Git Bash中依次键入如下指令键入"
   ]
  },
  {
   "cell_type": "code",
   "execution_count": null,
   "id": "3bcc928e-c8da-4386-8bb8-22a4109762fb",
   "metadata": {},
   "outputs": [],
   "source": [
    "git init  # 初始化"
   ]
  },
  {
   "cell_type": "code",
   "execution_count": null,
   "id": "b7bb8ec1-07c6-4fa3-b770-ee5d73d9e09a",
   "metadata": {},
   "outputs": [],
   "source": [
    "git add\n",
    "git commit -m 'first commit'  # 将文件夹的全部文件添加到暂存区并提交"
   ]
  },
  {
   "cell_type": "code",
   "execution_count": null,
   "id": "11ec7ec7-1cd0-4bb6-a5d3-8025c02dc3e0",
   "metadata": {},
   "outputs": [],
   "source": [
    "git remote add origin 新建仓库时的仓库地址HTTPS SSH  # 通过HTTPS SSH将远程仓库与本地仓库同步连接，新建仓库时记得复制"
   ]
  },
  {
   "cell_type": "code",
   "execution_count": null,
   "id": "9ea5f612-ef80-4da7-99a5-ed2360adcbd2",
   "metadata": {},
   "outputs": [],
   "source": [
    "git push -u origin master  # 将本地文件内容推送到远程仓库"
   ]
  }
 ],
 "metadata": {
  "kernelspec": {
   "display_name": "Python 3 (ipykernel)",
   "language": "python",
   "name": "python3"
  },
  "language_info": {
   "codemirror_mode": {
    "name": "ipython",
    "version": 3
   },
   "file_extension": ".py",
   "mimetype": "text/x-python",
   "name": "python",
   "nbconvert_exporter": "python",
   "pygments_lexer": "ipython3",
   "version": "3.9.17"
  }
 },
 "nbformat": 4,
 "nbformat_minor": 5
}
