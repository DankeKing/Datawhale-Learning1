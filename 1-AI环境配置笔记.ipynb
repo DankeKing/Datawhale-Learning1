{
 "cells": [
  {
   "cell_type": "markdown",
   "id": "6f6a9e8d-e9fd-4f61-be40-79c76a5c6ddf",
   "metadata": {},
   "source": [
    "# AI环境配置【miniconda】  \n",
    "## step1：  \n",
    "修改POWERSHELL执行策略，**管理员:Windows Powershell**中键入**Set-ExecutionPolicy -Scope CurrentUser RemoteSigned**\n",
    "## step2：  \n",
    "初始化conda，anaconda powershell prompt键入**conda init**\n",
    "## step3：  \n",
    "更换conda镜像源，进入[清华大学开源软件镜像站](https://help.mirrors.cernet.edu.cn/anaconda/)，找到Anaconda软件仓库，复制.condarc快速配置指令段(如下所示)；在anaconda powershell prompt中键入指令**notepad .condarc**，即可使用记事本打开.condarc文件，将复制好的指令段粘贴至.condarc内，保存关闭.condarc文件；最后键入**conda clean -i**清楚源缓存，启用镜像源"
   ]
  },
  {
   "cell_type": "code",
   "execution_count": null,
   "id": "a3150b1d-aca5-47f9-a5a1-12dd33a99720",
   "metadata": {},
   "outputs": [],
   "source": [
    "channels:\n",
    "  - defaults\n",
    "show_channel_urls: true\n",
    "default_channels:\n",
    "  - https://mirrors.tuna.tsinghua.edu.cn/anaconda/pkgs/main\n",
    "  - https://mirrors.tuna.tsinghua.edu.cn/anaconda/pkgs/r\n",
    "  - https://mirrors.tuna.tsinghua.edu.cn/anaconda/pkgs/msys2\n",
    "custom_channels:\n",
    "  conda-forge: https://mirrors.tuna.tsinghua.edu.cn/anaconda/cloud\n",
    "  pytorch: https://mirrors.tuna.tsinghua.edu.cn/anaconda/cloud"
   ]
  },
  {
   "cell_type": "markdown",
   "id": "8074e443-4cdb-458a-8aba-c238a882d2f7",
   "metadata": {},
   "source": [
    "## step4：创建激活conda环境\n",
    "在anaconda powershell prompt中键入指令**conda create -n Datawhale python=3.9**，即可创建名为Datawhale的python3.9编译环境，键入\"y\"下载新环境的基础库包；键入**conda activate Datawhale**，即可激活Datawhale环境，注意激活之前的环境均为base，激活指令后由base切换Datawhale\n",
    "## step5：调用所建环境\n",
    "在新建的Datawhale环境下，键入**cd 代码所在路径**，即可将路径由C盘系统路径切换至要调用Datawhale环境目标所在的路径；在该路径下键入**jupyter-notebook**，即可自动跳转至浏览器，可查看、编辑、运行该路径下的程序文件，也可新建各类文件\n",
    "## step6：CUDA安装\n",
    "在**管理员:Windows Powershell**中键入**nvidia-smi**，即可查看该设备的显卡型号、驱动型号以及对应的最高CUDA版本级别；进入[Pytorch官网](https://pytorch.org/)选择最接近所查询到的CUDA版本级别，复制CUDA安装指令代码(如下所示)；将复制的指令粘贴至anaconda powershell prompt(目标路径下)，回车即可完成CUDA安装"
   ]
  },
  {
   "cell_type": "code",
   "execution_count": null,
   "id": "59dc2cd1-e3c8-44c4-9f3b-1c660743e91a",
   "metadata": {},
   "outputs": [],
   "source": [
    "conda install pytorch torchvision torchaudio pytorch-cuda=11.7 -c pytorch -c nvidia"
   ]
  },
  {
   "cell_type": "markdown",
   "id": "78904830-1ee3-4700-9a06-ee4342b0387b",
   "metadata": {},
   "source": [
    "## step7：检验CUDA是否能成功调用GUP\n",
    "在目标路径下键入如下指令，若返回True则表示CUDA安装无误，可成功调用GPU"
   ]
  },
  {
   "cell_type": "code",
   "execution_count": null,
   "id": "0ba86450-6aea-4c36-becb-abbe1584e42c",
   "metadata": {},
   "outputs": [],
   "source": [
    "import torch\n",
    "torch.cuda.is_available()"
   ]
  }
 ],
 "metadata": {
  "kernelspec": {
   "display_name": "Python 3 (ipykernel)",
   "language": "python",
   "name": "python3"
  },
  "language_info": {
   "codemirror_mode": {
    "name": "ipython",
    "version": 3
   },
   "file_extension": ".py",
   "mimetype": "text/x-python",
   "name": "python",
   "nbconvert_exporter": "python",
   "pygments_lexer": "ipython3",
   "version": "3.9.17"
  }
 },
 "nbformat": 4,
 "nbformat_minor": 5
}
