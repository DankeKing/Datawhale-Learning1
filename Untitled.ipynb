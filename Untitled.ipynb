{
 "cells": [
  {
   "cell_type": "code",
   "execution_count": null,
   "id": "93be82ae-89bd-4043-9d4b-8f19250030dd",
   "metadata": {},
   "outputs": [],
   "source": [
    "# 引入分词器\n",
    "from nltk import word_tokenize, ngrams\n",
    "\n",
    "# 定义停用词，去掉出现较多，但对文章不关键的词语\n",
    "stops = [\n",
    "    'will', 'can', \"couldn't\", 'same', 'own', \"needn't\", 'between', \"shan't\", 'very',\n",
    "     'so', 'over', 'in', 'have', 'the', 's', 'didn', 'few', 'should', 'of', 'that', \n",
    "     'don', 'weren', 'into', \"mustn't\", 'other', 'from', \"she's\", 'hasn', \"you're\",\n",
    "     'ain', 'ours', 'them', 'he', 'hers', 'up', 'below', 'won', 'out', 'through',\n",
    "     'than', 'this', 'who', \"you've\", 'on', 'how', 'more', 'being', 'any', 'no',\n",
    "     'mightn', 'for', 'again', 'nor', 'there', 'him', 'was', 'y', 'too', 'now',\n",
    "     'whom', 'an', 've', 'or', 'itself', 'is', 'all', \"hasn't\", 'been', 'themselves',\n",
    "     'wouldn', 'its', 'had', \"should've\", 'it', \"you'll\", 'are', 'be', 'when', \"hadn't\",\n",
    "     \"that'll\", 'what', 'while', 'above', 'such', 'we', 't', 'my', 'd', 'i', 'me',\n",
    "     'at', 'after', 'am', 'against', 'further', 'just', 'isn', 'haven', 'down',\n",
    "     \"isn't\", \"wouldn't\", 'some', \"didn't\", 'ourselves', 'their', 'theirs', 'both',\n",
    "     're', 'her', 'ma', 'before', \"don't\", 'having', 'where', 'shouldn', 'under',\n",
    "     'if', 'as', 'myself', 'needn', 'these', 'you', 'with', 'yourself', 'those',\n",
    "     'each', 'herself', 'off', 'to', 'not', 'm', \"it's\", 'does', \"weren't\", \"aren't\",\n",
    "     'were', 'aren', 'by', 'doesn', 'himself', 'wasn', \"you'd\", 'once', 'because', 'yours',\n",
    "     'has', \"mightn't\", 'they', 'll', \"haven't\", 'but', 'couldn', 'a', 'do', 'hadn',\n",
    "     \"doesn't\", 'your', 'she', 'yourselves', 'o', 'our', 'here', 'and', 'his', 'most',\n",
    "     'about', 'shan', \"wasn't\", 'then', 'only', 'mustn', 'doing', 'during', 'why',\n",
    "     \"won't\", 'until', 'did', \"shouldn't\", 'which'\n",
    "]\n",
    "\n",
    "# 定义方法按照词频筛选关键词\n",
    "\n",
    "def extract_keywords_by_freq(title, abstract):\n",
    "    ngrams_count = list(ngrams(word_tokenize(title.lower()), 2)) + list(ngrams(word_tokenize(abstract.lower()), 2))\n",
    "    ngrams_count = pd.DataFrame(ngrams_count)\n",
    "    ngrams_count = ngrams_count[~ngrams_count[0].isin(stops)]\n",
    "    ngrams_count = ngrams_count[~ngrams_count[1].isin(stops)]\n",
    "    ngrams_count = ngrams_count[ngrams_count[0].apply(len) > 3]\n",
    "    ngrams_count = ngrams_count[ngrams_count[1].apply(len) > 3]\n",
    "    ngrams_count['phrase'] = ngrams_count[0] + ' ' + ngrams_count[1]\n",
    "    ngrams_count = ngrams_count['phrase'].value_counts()\n",
    "    ngrams_count = ngrams_count[ngrams_count > 1]\n",
    "    return list(ngrams_count.index)[:6]\n",
    "\n",
    "## 对测试集提取关键词   \n",
    "\n",
    "test_words = []\n",
    "for row in test.iterrows():\n",
    "    # 读取第每一行数据的标题与摘要并提取关键词\n",
    "    prediction_keywords = extract_keywords_by_freq(row[1].title, row[1].abstract)\n",
    "    # 利用文章标题进一步提取关键词\n",
    "    prediction_keywords = [x.title() for x in prediction_keywords]\n",
    "    # 如果未能提取到关键词\n",
    "    if len(prediction_keywords) == 0:\n",
    "        prediction_keywords = ['A', 'B']\n",
    "    test_words.append('; '.join(prediction_keywords))\n",
    "    \n",
    "test['Keywords'] = test_words\n",
    "test[['uuid', 'Keywords', 'label']].to_csv('submit_task2.csv', index=None)"
   ]
  }
 ],
 "metadata": {
  "kernelspec": {
   "display_name": "Python 3 (ipykernel)",
   "language": "python",
   "name": "python3"
  },
  "language_info": {
   "codemirror_mode": {
    "name": "ipython",
    "version": 3
   },
   "file_extension": ".py",
   "mimetype": "text/x-python",
   "name": "python",
   "nbconvert_exporter": "python",
   "pygments_lexer": "ipython3",
   "version": "3.9.17"
  }
 },
 "nbformat": 4,
 "nbformat_minor": 5
}
