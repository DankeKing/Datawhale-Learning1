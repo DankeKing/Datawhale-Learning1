{
 "cells": [
  {
   "cell_type": "markdown",
   "id": "6f6a9e8d-e9fd-4f61-be40-79c76a5c6ddf",
   "metadata": {},
   "source": [
    "AI环境配置【miniconda】笔记\n",
    "step1：修改POWERSHELL执行策略，powershell键入Set-ExecutionPolicy -Scope CurrentUser RemoteSigned\n",
    "step2：初始化conda，anaconda prompt键入conda init\n"
   ]
  },
  {
   "cell_type": "code",
   "execution_count": null,
   "id": "0bef6990-d38b-4dc4-85d9-83fa257f6b0e",
   "metadata": {},
   "outputs": [],
   "source": []
  }
 ],
 "metadata": {
  "kernelspec": {
   "display_name": "Python 3 (ipykernel)",
   "language": "python",
   "name": "python3"
  },
  "language_info": {
   "codemirror_mode": {
    "name": "ipython",
    "version": 3
   },
   "file_extension": ".py",
   "mimetype": "text/x-python",
   "name": "python",
   "nbconvert_exporter": "python",
   "pygments_lexer": "ipython3",
   "version": "3.9.17"
  }
 },
 "nbformat": 4,
 "nbformat_minor": 5
}
